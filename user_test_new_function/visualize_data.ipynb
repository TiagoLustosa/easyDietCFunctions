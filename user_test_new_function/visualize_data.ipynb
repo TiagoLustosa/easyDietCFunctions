{
 "cells": [
  {
   "cell_type": "code",
   "execution_count": 1,
   "metadata": {},
   "outputs": [
    {
     "data": {
      "text/html": [
       "<div>\n",
       "<style scoped>\n",
       "    .dataframe tbody tr th:only-of-type {\n",
       "        vertical-align: middle;\n",
       "    }\n",
       "\n",
       "    .dataframe tbody tr th {\n",
       "        vertical-align: top;\n",
       "    }\n",
       "\n",
       "    .dataframe thead th {\n",
       "        text-align: right;\n",
       "    }\n",
       "</style>\n",
       "<table border=\"1\" class=\"dataframe\">\n",
       "  <thead>\n",
       "    <tr style=\"text-align: right;\">\n",
       "      <th></th>\n",
       "      <th>PtnIdeal</th>\n",
       "      <th>LipidIdeal</th>\n",
       "      <th>KcalIdeal</th>\n",
       "      <th>totalPtnCalculated</th>\n",
       "      <th>totalLipidCalculated</th>\n",
       "      <th>totalKcalCalculated</th>\n",
       "      <th>fstMPtnFoodG</th>\n",
       "      <th>fstMLipidFoodG</th>\n",
       "      <th>fstMCarbFoodG</th>\n",
       "      <th>secMPtnFoodG</th>\n",
       "      <th>...</th>\n",
       "      <th>thirdMCarboFoodG</th>\n",
       "      <th>fourthMPtnFoodG</th>\n",
       "      <th>fourthMLipidFoodG</th>\n",
       "      <th>fourthMealCarboFoodG</th>\n",
       "      <th>fifthMPtnFoodG</th>\n",
       "      <th>fifthMLipidFoodG</th>\n",
       "      <th>fifthMealCarboFoodG</th>\n",
       "      <th>sixthMPtnFoodG</th>\n",
       "      <th>sixthMLipidFoodG</th>\n",
       "      <th>sixthMealCarboFoodG</th>\n",
       "    </tr>\n",
       "  </thead>\n",
       "  <tbody>\n",
       "    <tr>\n",
       "      <th>0</th>\n",
       "      <td>142.0</td>\n",
       "      <td>71</td>\n",
       "      <td>1502.617375</td>\n",
       "      <td>142.163303</td>\n",
       "      <td>74.016893</td>\n",
       "      <td>1583.39145</td>\n",
       "      <td>55</td>\n",
       "      <td>20</td>\n",
       "      <td>57</td>\n",
       "      <td>47</td>\n",
       "      <td>...</td>\n",
       "      <td>77</td>\n",
       "      <td>60</td>\n",
       "      <td>2</td>\n",
       "      <td>59</td>\n",
       "      <td>113</td>\n",
       "      <td>15</td>\n",
       "      <td>48</td>\n",
       "      <td>64</td>\n",
       "      <td>0</td>\n",
       "      <td>1</td>\n",
       "    </tr>\n",
       "  </tbody>\n",
       "</table>\n",
       "<p>1 rows × 24 columns</p>\n",
       "</div>"
      ],
      "text/plain": [
       "   PtnIdeal  LipidIdeal    KcalIdeal  totalPtnCalculated   \n",
       "0     142.0          71  1502.617375          142.163303  \\\n",
       "\n",
       "   totalLipidCalculated  totalKcalCalculated  fstMPtnFoodG  fstMLipidFoodG   \n",
       "0             74.016893           1583.39145            55              20  \\\n",
       "\n",
       "   fstMCarbFoodG  secMPtnFoodG  ...  thirdMCarboFoodG  fourthMPtnFoodG   \n",
       "0             57            47  ...                77               60  \\\n",
       "\n",
       "   fourthMLipidFoodG  fourthMealCarboFoodG  fifthMPtnFoodG  fifthMLipidFoodG   \n",
       "0                  2                    59             113                15  \\\n",
       "\n",
       "   fifthMealCarboFoodG  sixthMPtnFoodG  sixthMLipidFoodG  sixthMealCarboFoodG  \n",
       "0                   48              64                 0                    1  \n",
       "\n",
       "[1 rows x 24 columns]"
      ]
     },
     "execution_count": 1,
     "metadata": {},
     "output_type": "execute_result"
    }
   ],
   "source": [
    "import pandas as pd\n",
    "\n",
    "df = pd.read_csv('user_data_result.csv')\n",
    "\n",
    "df.head()"
   ]
  }
 ],
 "metadata": {
  "kernelspec": {
   "display_name": "Python 3",
   "language": "python",
   "name": "python3"
  },
  "language_info": {
   "codemirror_mode": {
    "name": "ipython",
    "version": 3
   },
   "file_extension": ".py",
   "mimetype": "text/x-python",
   "name": "python",
   "nbconvert_exporter": "python",
   "pygments_lexer": "ipython3",
   "version": "3.11.3"
  },
  "orig_nbformat": 4
 },
 "nbformat": 4,
 "nbformat_minor": 2
}
